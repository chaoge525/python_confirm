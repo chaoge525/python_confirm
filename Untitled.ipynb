{
 "cells": [
  {
   "cell_type": "code",
   "execution_count": 2,
   "id": "46f1a510-bd74-46e5-897d-4a4f0f51184a",
   "metadata": {},
   "outputs": [],
   "source": [
    "a = 1"
   ]
  },
  {
   "cell_type": "code",
   "execution_count": 3,
   "id": "2e20588c-c600-404b-a9eb-94f9feb5efc7",
   "metadata": {},
   "outputs": [
    {
     "name": "stdout",
     "output_type": "stream",
     "text": [
      "1\n"
     ]
    }
   ],
   "source": [
    "print(a)"
   ]
  },
  {
   "cell_type": "code",
   "execution_count": null,
   "id": "bab5115f-559e-4a57-94dc-3f40e2a425a4",
   "metadata": {},
   "outputs": [],
   "source": [
    "# https://tutorials.chainer.org/ja/02_Basics_of_Python.html\n",
    "\n"
   ]
  }
 ],
 "metadata": {
  "kernelspec": {
   "display_name": "Python 3.9.7 64-bit",
   "language": "python",
   "name": "python3"
  },
  "language_info": {
   "codemirror_mode": {
    "name": "ipython",
    "version": 3
   },
   "file_extension": ".py",
   "mimetype": "text/x-python",
   "name": "python",
   "nbconvert_exporter": "python",
   "pygments_lexer": "ipython3",
   "version": "3.9.7"
  },
  "vscode": {
   "interpreter": {
    "hash": "2390f7c938a1b202548eb565ce8cad75a5301864328753e1d72dedcfddcd4e13"
   }
  }
 },
 "nbformat": 4,
 "nbformat_minor": 5
}
